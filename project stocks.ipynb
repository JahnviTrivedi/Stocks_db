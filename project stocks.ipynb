{
 "cells": [
  {
   "cell_type": "code",
   "execution_count": 1,
   "metadata": {},
   "outputs": [],
   "source": [
    "import mysql.connector\n",
    "import numpy as np\n",
    "import pandas as pd\n",
    "from sklearn import preprocessing, svm\n",
    "from sklearn.linear_model import LinearRegression\n",
    "import math\n",
    "from sklearn.model_selection import  train_test_split"
   ]
  },
  {
   "cell_type": "code",
   "execution_count": 2,
   "metadata": {},
   "outputs": [],
   "source": [
    "conn = mysql.connector.connect(\n",
    "         user='foouser',\n",
    "         password='F88Pa%%**',\n",
    "         host='134.209.144.239',\n",
    "         database='stocksdb') "
   ]
  },
  {
   "cell_type": "code",
   "execution_count": 3,
   "metadata": {},
   "outputs": [],
   "source": [
    "df=pd.read_sql(\"SHOW TABLES\",con=conn)"
   ]
  },
  {
   "cell_type": "code",
   "execution_count": 4,
   "metadata": {},
   "outputs": [
    {
     "data": {
      "text/html": [
       "<div>\n",
       "<style scoped>\n",
       "    .dataframe tbody tr th:only-of-type {\n",
       "        vertical-align: middle;\n",
       "    }\n",
       "\n",
       "    .dataframe tbody tr th {\n",
       "        vertical-align: top;\n",
       "    }\n",
       "\n",
       "    .dataframe thead th {\n",
       "        text-align: right;\n",
       "    }\n",
       "</style>\n",
       "<table border=\"1\" class=\"dataframe\">\n",
       "  <thead>\n",
       "    <tr style=\"text-align: right;\">\n",
       "      <th></th>\n",
       "      <th>Tables_in_stocksdb</th>\n",
       "    </tr>\n",
       "  </thead>\n",
       "  <tbody>\n",
       "    <tr>\n",
       "      <th>0</th>\n",
       "      <td>interview</td>\n",
       "    </tr>\n",
       "  </tbody>\n",
       "</table>\n",
       "</div>"
      ],
      "text/plain": [
       "  Tables_in_stocksdb\n",
       "0          interview"
      ]
     },
     "execution_count": 4,
     "metadata": {},
     "output_type": "execute_result"
    }
   ],
   "source": [
    "df"
   ]
  },
  {
   "cell_type": "code",
   "execution_count": 5,
   "metadata": {},
   "outputs": [],
   "source": [
    "df = pd.read_sql('SELECT * FROM interview', con=conn)"
   ]
  },
  {
   "cell_type": "code",
   "execution_count": null,
   "metadata": {},
   "outputs": [],
   "source": [
    "df.isnull().sum()"
   ]
  },
  {
   "cell_type": "code",
   "execution_count": 6,
   "metadata": {},
   "outputs": [],
   "source": [
    "new_dates, new_times = zip(*[(d.date(), d.time()) for d in df['datetime']])\n",
    "df = df.assign(date=new_dates, time=new_times)"
   ]
  },
  {
   "cell_type": "code",
   "execution_count": 7,
   "metadata": {},
   "outputs": [
    {
     "data": {
      "text/html": [
       "<div>\n",
       "<style scoped>\n",
       "    .dataframe tbody tr th:only-of-type {\n",
       "        vertical-align: middle;\n",
       "    }\n",
       "\n",
       "    .dataframe tbody tr th {\n",
       "        vertical-align: top;\n",
       "    }\n",
       "\n",
       "    .dataframe thead th {\n",
       "        text-align: right;\n",
       "    }\n",
       "</style>\n",
       "<table border=\"1\" class=\"dataframe\">\n",
       "  <thead>\n",
       "    <tr style=\"text-align: right;\">\n",
       "      <th></th>\n",
       "      <th>isin</th>\n",
       "      <th>insertion_datetime</th>\n",
       "      <th>datetime</th>\n",
       "      <th>open</th>\n",
       "      <th>high</th>\n",
       "      <th>low</th>\n",
       "      <th>close</th>\n",
       "      <th>volume</th>\n",
       "      <th>open_interest</th>\n",
       "      <th>date</th>\n",
       "      <th>time</th>\n",
       "    </tr>\n",
       "  </thead>\n",
       "  <tbody>\n",
       "    <tr>\n",
       "      <th>0</th>\n",
       "      <td>INE545A01016</td>\n",
       "      <td>NaT</td>\n",
       "      <td>2018-01-01 09:15:00</td>\n",
       "      <td>2419.0</td>\n",
       "      <td>2436.00</td>\n",
       "      <td>2408.90</td>\n",
       "      <td>2435.25</td>\n",
       "      <td>10281</td>\n",
       "      <td>NaN</td>\n",
       "      <td>2018-01-01</td>\n",
       "      <td>09:15:00</td>\n",
       "    </tr>\n",
       "    <tr>\n",
       "      <th>1</th>\n",
       "      <td>INE545A01016</td>\n",
       "      <td>NaT</td>\n",
       "      <td>2018-01-01 09:16:00</td>\n",
       "      <td>2435.0</td>\n",
       "      <td>2440.00</td>\n",
       "      <td>2426.45</td>\n",
       "      <td>2439.00</td>\n",
       "      <td>13315</td>\n",
       "      <td>NaN</td>\n",
       "      <td>2018-01-01</td>\n",
       "      <td>09:16:00</td>\n",
       "    </tr>\n",
       "    <tr>\n",
       "      <th>2</th>\n",
       "      <td>INE545A01016</td>\n",
       "      <td>NaT</td>\n",
       "      <td>2018-01-01 09:17:00</td>\n",
       "      <td>2439.7</td>\n",
       "      <td>2439.70</td>\n",
       "      <td>2422.10</td>\n",
       "      <td>2424.95</td>\n",
       "      <td>3760</td>\n",
       "      <td>NaN</td>\n",
       "      <td>2018-01-01</td>\n",
       "      <td>09:17:00</td>\n",
       "    </tr>\n",
       "    <tr>\n",
       "      <th>3</th>\n",
       "      <td>INE545A01016</td>\n",
       "      <td>NaT</td>\n",
       "      <td>2018-01-01 09:18:00</td>\n",
       "      <td>2420.0</td>\n",
       "      <td>2424.50</td>\n",
       "      <td>2386.50</td>\n",
       "      <td>2395.00</td>\n",
       "      <td>11653</td>\n",
       "      <td>NaN</td>\n",
       "      <td>2018-01-01</td>\n",
       "      <td>09:18:00</td>\n",
       "    </tr>\n",
       "    <tr>\n",
       "      <th>4</th>\n",
       "      <td>INE545A01016</td>\n",
       "      <td>NaT</td>\n",
       "      <td>2018-01-01 09:19:00</td>\n",
       "      <td>2395.0</td>\n",
       "      <td>2413.95</td>\n",
       "      <td>2394.70</td>\n",
       "      <td>2409.85</td>\n",
       "      <td>7744</td>\n",
       "      <td>NaN</td>\n",
       "      <td>2018-01-01</td>\n",
       "      <td>09:19:00</td>\n",
       "    </tr>\n",
       "  </tbody>\n",
       "</table>\n",
       "</div>"
      ],
      "text/plain": [
       "           isin insertion_datetime            datetime    open     high  \\\n",
       "0  INE545A01016                NaT 2018-01-01 09:15:00  2419.0  2436.00   \n",
       "1  INE545A01016                NaT 2018-01-01 09:16:00  2435.0  2440.00   \n",
       "2  INE545A01016                NaT 2018-01-01 09:17:00  2439.7  2439.70   \n",
       "3  INE545A01016                NaT 2018-01-01 09:18:00  2420.0  2424.50   \n",
       "4  INE545A01016                NaT 2018-01-01 09:19:00  2395.0  2413.95   \n",
       "\n",
       "       low    close  volume  open_interest        date      time  \n",
       "0  2408.90  2435.25   10281            NaN  2018-01-01  09:15:00  \n",
       "1  2426.45  2439.00   13315            NaN  2018-01-01  09:16:00  \n",
       "2  2422.10  2424.95    3760            NaN  2018-01-01  09:17:00  \n",
       "3  2386.50  2395.00   11653            NaN  2018-01-01  09:18:00  \n",
       "4  2394.70  2409.85    7744            NaN  2018-01-01  09:19:00  "
      ]
     },
     "execution_count": 7,
     "metadata": {},
     "output_type": "execute_result"
    }
   ],
   "source": [
    "df.head()"
   ]
  },
  {
   "cell_type": "code",
   "execution_count": 8,
   "metadata": {},
   "outputs": [],
   "source": [
    "df.drop(['datetime','insertion_datetime','open_interest','time','isin','date'],axis=1,inplace=True)"
   ]
  },
  {
   "cell_type": "code",
   "execution_count": 9,
   "metadata": {},
   "outputs": [
    {
     "data": {
      "text/html": [
       "<div>\n",
       "<style scoped>\n",
       "    .dataframe tbody tr th:only-of-type {\n",
       "        vertical-align: middle;\n",
       "    }\n",
       "\n",
       "    .dataframe tbody tr th {\n",
       "        vertical-align: top;\n",
       "    }\n",
       "\n",
       "    .dataframe thead th {\n",
       "        text-align: right;\n",
       "    }\n",
       "</style>\n",
       "<table border=\"1\" class=\"dataframe\">\n",
       "  <thead>\n",
       "    <tr style=\"text-align: right;\">\n",
       "      <th></th>\n",
       "      <th>open</th>\n",
       "      <th>high</th>\n",
       "      <th>low</th>\n",
       "      <th>close</th>\n",
       "      <th>volume</th>\n",
       "    </tr>\n",
       "  </thead>\n",
       "  <tbody>\n",
       "    <tr>\n",
       "      <th>0</th>\n",
       "      <td>2419.0</td>\n",
       "      <td>2436.00</td>\n",
       "      <td>2408.90</td>\n",
       "      <td>2435.25</td>\n",
       "      <td>10281</td>\n",
       "    </tr>\n",
       "    <tr>\n",
       "      <th>1</th>\n",
       "      <td>2435.0</td>\n",
       "      <td>2440.00</td>\n",
       "      <td>2426.45</td>\n",
       "      <td>2439.00</td>\n",
       "      <td>13315</td>\n",
       "    </tr>\n",
       "    <tr>\n",
       "      <th>2</th>\n",
       "      <td>2439.7</td>\n",
       "      <td>2439.70</td>\n",
       "      <td>2422.10</td>\n",
       "      <td>2424.95</td>\n",
       "      <td>3760</td>\n",
       "    </tr>\n",
       "    <tr>\n",
       "      <th>3</th>\n",
       "      <td>2420.0</td>\n",
       "      <td>2424.50</td>\n",
       "      <td>2386.50</td>\n",
       "      <td>2395.00</td>\n",
       "      <td>11653</td>\n",
       "    </tr>\n",
       "    <tr>\n",
       "      <th>4</th>\n",
       "      <td>2395.0</td>\n",
       "      <td>2413.95</td>\n",
       "      <td>2394.70</td>\n",
       "      <td>2409.85</td>\n",
       "      <td>7744</td>\n",
       "    </tr>\n",
       "  </tbody>\n",
       "</table>\n",
       "</div>"
      ],
      "text/plain": [
       "     open     high      low    close  volume\n",
       "0  2419.0  2436.00  2408.90  2435.25   10281\n",
       "1  2435.0  2440.00  2426.45  2439.00   13315\n",
       "2  2439.7  2439.70  2422.10  2424.95    3760\n",
       "3  2420.0  2424.50  2386.50  2395.00   11653\n",
       "4  2395.0  2413.95  2394.70  2409.85    7744"
      ]
     },
     "execution_count": 9,
     "metadata": {},
     "output_type": "execute_result"
    }
   ],
   "source": [
    "df.head()"
   ]
  },
  {
   "cell_type": "code",
   "execution_count": 10,
   "metadata": {},
   "outputs": [],
   "source": [
    "df = df[['open',  'high',  'low',  'close', 'volume']]\n",
    "df['hl'] = (df['high'] - df['low']) / df['close'] * 100.0\n",
    "df['co'] = (df['close'] - df['open']) / df['open'] * 100.0\n"
   ]
  },
  {
   "cell_type": "code",
   "execution_count": 11,
   "metadata": {},
   "outputs": [
    {
     "data": {
      "text/html": [
       "<div>\n",
       "<style scoped>\n",
       "    .dataframe tbody tr th:only-of-type {\n",
       "        vertical-align: middle;\n",
       "    }\n",
       "\n",
       "    .dataframe tbody tr th {\n",
       "        vertical-align: top;\n",
       "    }\n",
       "\n",
       "    .dataframe thead th {\n",
       "        text-align: right;\n",
       "    }\n",
       "</style>\n",
       "<table border=\"1\" class=\"dataframe\">\n",
       "  <thead>\n",
       "    <tr style=\"text-align: right;\">\n",
       "      <th></th>\n",
       "      <th>open</th>\n",
       "      <th>high</th>\n",
       "      <th>low</th>\n",
       "      <th>close</th>\n",
       "      <th>volume</th>\n",
       "      <th>hl</th>\n",
       "      <th>co</th>\n",
       "    </tr>\n",
       "  </thead>\n",
       "  <tbody>\n",
       "    <tr>\n",
       "      <th>0</th>\n",
       "      <td>2419.0</td>\n",
       "      <td>2436.00</td>\n",
       "      <td>2408.90</td>\n",
       "      <td>2435.25</td>\n",
       "      <td>10281</td>\n",
       "      <td>1.112822</td>\n",
       "      <td>0.671765</td>\n",
       "    </tr>\n",
       "    <tr>\n",
       "      <th>1</th>\n",
       "      <td>2435.0</td>\n",
       "      <td>2440.00</td>\n",
       "      <td>2426.45</td>\n",
       "      <td>2439.00</td>\n",
       "      <td>13315</td>\n",
       "      <td>0.555556</td>\n",
       "      <td>0.164271</td>\n",
       "    </tr>\n",
       "    <tr>\n",
       "      <th>2</th>\n",
       "      <td>2439.7</td>\n",
       "      <td>2439.70</td>\n",
       "      <td>2422.10</td>\n",
       "      <td>2424.95</td>\n",
       "      <td>3760</td>\n",
       "      <td>0.725788</td>\n",
       "      <td>-0.604583</td>\n",
       "    </tr>\n",
       "    <tr>\n",
       "      <th>3</th>\n",
       "      <td>2420.0</td>\n",
       "      <td>2424.50</td>\n",
       "      <td>2386.50</td>\n",
       "      <td>2395.00</td>\n",
       "      <td>11653</td>\n",
       "      <td>1.586639</td>\n",
       "      <td>-1.033058</td>\n",
       "    </tr>\n",
       "    <tr>\n",
       "      <th>4</th>\n",
       "      <td>2395.0</td>\n",
       "      <td>2413.95</td>\n",
       "      <td>2394.70</td>\n",
       "      <td>2409.85</td>\n",
       "      <td>7744</td>\n",
       "      <td>0.798805</td>\n",
       "      <td>0.620042</td>\n",
       "    </tr>\n",
       "  </tbody>\n",
       "</table>\n",
       "</div>"
      ],
      "text/plain": [
       "     open     high      low    close  volume        hl        co\n",
       "0  2419.0  2436.00  2408.90  2435.25   10281  1.112822  0.671765\n",
       "1  2435.0  2440.00  2426.45  2439.00   13315  0.555556  0.164271\n",
       "2  2439.7  2439.70  2422.10  2424.95    3760  0.725788 -0.604583\n",
       "3  2420.0  2424.50  2386.50  2395.00   11653  1.586639 -1.033058\n",
       "4  2395.0  2413.95  2394.70  2409.85    7744  0.798805  0.620042"
      ]
     },
     "execution_count": 11,
     "metadata": {},
     "output_type": "execute_result"
    }
   ],
   "source": [
    "df.head()"
   ]
  },
  {
   "cell_type": "code",
   "execution_count": 16,
   "metadata": {},
   "outputs": [],
   "source": [
    "df = df[['close', 'hl', 'co', 'volume']]\n",
    "target_col = 'close'\n"
   ]
  },
  {
   "cell_type": "code",
   "execution_count": 17,
   "metadata": {},
   "outputs": [],
   "source": [
    "df.fillna(value=-99999, inplace=True)"
   ]
  },
  {
   "cell_type": "code",
   "execution_count": 18,
   "metadata": {},
   "outputs": [],
   "source": [
    "target_out = int(math.ceil(0.01 * len(df)))\n",
    "df['label'] = df[target_col].shift(-target_out)"
   ]
  },
  {
   "cell_type": "code",
   "execution_count": 19,
   "metadata": {},
   "outputs": [],
   "source": [
    "X = np.array(df.drop(['label'], 1))\n",
    "X = preprocessing.scale(X)\n",
    "X = X[:-target_out]\n",
    "df.dropna(inplace=True)\n",
    "y = np.array(df['label'])\n",
    "X_train, X_test, y_train, y_test = train_test_split(X, y, test_size=0.2)\n"
   ]
  },
  {
   "cell_type": "code",
   "execution_count": 20,
   "metadata": {},
   "outputs": [
    {
     "data": {
      "text/plain": [
       "LinearRegression(copy_X=True, fit_intercept=True, n_jobs=-1, normalize=False)"
      ]
     },
     "execution_count": 20,
     "metadata": {},
     "output_type": "execute_result"
    }
   ],
   "source": [
    "clf = LinearRegression(n_jobs=-1)\n",
    "clf.fit(X_train, y_train)\n"
   ]
  },
  {
   "cell_type": "code",
   "execution_count": 21,
   "metadata": {},
   "outputs": [
    {
     "data": {
      "text/plain": [
       "<bound method LinearRegression.fit of LinearRegression(copy_X=True, fit_intercept=True, n_jobs=-1, normalize=False)>"
      ]
     },
     "execution_count": 21,
     "metadata": {},
     "output_type": "execute_result"
    }
   ],
   "source": [
    "clf.fit"
   ]
  },
  {
   "cell_type": "code",
   "execution_count": 22,
   "metadata": {},
   "outputs": [
    {
     "name": "stdout",
     "output_type": "stream",
     "text": [
      "0.7756099721209979\n"
     ]
    }
   ],
   "source": [
    "confidence = clf.score(X_test, y_test)\n",
    "print(confidence)"
   ]
  },
  {
   "cell_type": "code",
   "execution_count": 23,
   "metadata": {},
   "outputs": [
    {
     "data": {
      "text/plain": [
       "array([ 579.1420812 ,  849.10888634, 1615.39105569, ...,  745.30132472,\n",
       "        169.40608108, 3288.79672088])"
      ]
     },
     "execution_count": 23,
     "metadata": {},
     "output_type": "execute_result"
    }
   ],
   "source": [
    "clf.predict(X_test)"
   ]
  },
  {
   "cell_type": "code",
   "execution_count": null,
   "metadata": {},
   "outputs": [],
   "source": []
  },
  {
   "cell_type": "code",
   "execution_count": null,
   "metadata": {},
   "outputs": [],
   "source": []
  }
 ],
 "metadata": {
  "kernelspec": {
   "display_name": "Python 3",
   "language": "python",
   "name": "python3"
  },
  "language_info": {
   "codemirror_mode": {
    "name": "ipython",
    "version": 3
   },
   "file_extension": ".py",
   "mimetype": "text/x-python",
   "name": "python",
   "nbconvert_exporter": "python",
   "pygments_lexer": "ipython3",
   "version": "3.6.8"
  }
 },
 "nbformat": 4,
 "nbformat_minor": 2
}
