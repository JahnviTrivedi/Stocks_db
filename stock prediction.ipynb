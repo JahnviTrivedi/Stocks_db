{
 "cells": [
  {
   "cell_type": "code",
   "execution_count": 1,
   "metadata": {},
   "outputs": [],
   "source": [
    "import numpy as np \n",
    "import pandas as pd \n",
    "from sklearn import preprocessing;\n",
    "from sklearn.model_selection import train_test_split ;\n",
    "from sklearn import linear_model;\n",
    "import mysql.connector"
   ]
  },
  {
   "cell_type": "code",
   "execution_count": 2,
   "metadata": {},
   "outputs": [],
   "source": [
    "conn = mysql.connector.connect(\n",
    "         user='foouser',\n",
    "         password='F88Pa%%**',\n",
    "         host='134.209.144.239',\n",
    "         database='stocksdb') "
   ]
  },
  {
   "cell_type": "code",
   "execution_count": 3,
   "metadata": {},
   "outputs": [],
   "source": [
    "df=pd.read_sql(\"SHOW TABLES\",con=conn)"
   ]
  },
  {
   "cell_type": "code",
   "execution_count": 4,
   "metadata": {},
   "outputs": [],
   "source": [
    "df = pd.read_sql('SELECT * FROM interview', con=conn)"
   ]
  },
  {
   "cell_type": "code",
   "execution_count": 5,
   "metadata": {},
   "outputs": [],
   "source": [
    "def prepare_data(df,forecast_col,forecast_out,test_size):\n",
    "    label = df[forecast_col].shift(-forecast_out)\n",
    "    X = np.array(df[[forecast_col]])\n",
    "    X = preprocessing.scale(X) \n",
    "    X_predlater = X[-forecast_out:] \n",
    "    X = X[:-forecast_out] \n",
    "    label.dropna(inplace=True)\n",
    "    y = np.array(label) \n",
    "    X_train, X_test, Y_train, Y_test = train_test_split(X, y, test_size=test_size) \n",
    "\n",
    "    response = [X_train,X_test , Y_train, Y_test , X_predlater]\n",
    "    return response\n"
   ]
  },
  {
   "cell_type": "code",
   "execution_count": 28,
   "metadata": {},
   "outputs": [],
   "source": [
    "forecast_col = 'close' #target col\n",
    "forecast_out = 15\n",
    "test_size = 0.2 #validation data \n",
    "\n",
    "X_train, X_test, Y_train, Y_test , X_predlater =prepare_data(df,forecast_col,forecast_out,test_size)\n"
   ]
  },
  {
   "cell_type": "code",
   "execution_count": 29,
   "metadata": {},
   "outputs": [],
   "source": [
    "#Linear Model\n",
    "lm = linear_model.LinearRegression()\n",
    "lm.fit(X_train,Y_train)\n",
    "validation_score=lm.score(X_test,Y_test)\n",
    "\n",
    "forecast= lm.predict(X_predlater)\n"
   ]
  },
  {
   "cell_type": "code",
   "execution_count": 32,
   "metadata": {},
   "outputs": [
    {
     "data": {
      "text/plain": [
       "0.9987433117263932"
      ]
     },
     "execution_count": 32,
     "metadata": {},
     "output_type": "execute_result"
    }
   ],
   "source": [
    "validation_score"
   ]
  },
  {
   "cell_type": "code",
   "execution_count": 33,
   "metadata": {},
   "outputs": [
    {
     "data": {
      "text/plain": [
       "array([648.93045672, 650.32965221, 650.32965221, 649.5800832 ,\n",
       "       649.08037053, 648.53068658, 650.02982461, 650.02982461,\n",
       "       650.02982461, 650.02982461, 649.8799108 , 649.82993954,\n",
       "       648.58065785, 649.729997  , 649.48014066])"
      ]
     },
     "execution_count": 33,
     "metadata": {},
     "output_type": "execute_result"
    }
   ],
   "source": [
    "forecast"
   ]
  },
  {
   "cell_type": "code",
   "execution_count": 31,
   "metadata": {},
   "outputs": [
    {
     "name": "stdout",
     "output_type": "stream",
     "text": [
      "{'validation_score': 0.9987433117263932, 'forecast_set': array([648.93045672, 650.32965221, 650.32965221, 649.5800832 ,\n",
      "       649.08037053, 648.53068658, 650.02982461, 650.02982461,\n",
      "       650.02982461, 650.02982461, 649.8799108 , 649.82993954,\n",
      "       648.58065785, 649.729997  , 649.48014066])}\n"
     ]
    }
   ],
   "source": [
    "response={}\n",
    "response['validation_score']=validation_score \n",
    "response['forecast_set']=forecast\n",
    "print(response)"
   ]
  }
 ],
 "metadata": {
  "kernelspec": {
   "display_name": "Python 3",
   "language": "python",
   "name": "python3"
  },
  "language_info": {
   "codemirror_mode": {
    "name": "ipython",
    "version": 3
   },
   "file_extension": ".py",
   "mimetype": "text/x-python",
   "name": "python",
   "nbconvert_exporter": "python",
   "pygments_lexer": "ipython3",
   "version": "3.6.8"
  }
 },
 "nbformat": 4,
 "nbformat_minor": 2
}
